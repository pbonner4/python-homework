{
 "cells": [
  {
   "cell_type": "code",
   "execution_count": 258,
   "metadata": {},
   "outputs": [],
   "source": [
    "#Import data to be analyzed\n",
    "import csv"
   ]
  },
  {
   "cell_type": "code",
   "execution_count": 259,
   "metadata": {},
   "outputs": [
    {
     "data": {
      "text/plain": [
       "'/Users/philipbonner/python-homework/PyBank'"
      ]
     },
     "execution_count": 259,
     "metadata": {},
     "output_type": "execute_result"
    }
   ],
   "source": [
    "#Determine path in computer\n",
    "pwd"
   ]
  },
  {
   "cell_type": "code",
   "execution_count": 260,
   "metadata": {},
   "outputs": [],
   "source": [
    "#Import files to input\n",
    "from pathlib import Path"
   ]
  },
  {
   "cell_type": "code",
   "execution_count": 261,
   "metadata": {},
   "outputs": [],
   "source": [
    "data_spreadsheet=Path('budget_data.csv')"
   ]
  },
  {
   "cell_type": "code",
   "execution_count": null,
   "metadata": {},
   "outputs": [],
   "source": []
  },
  {
   "cell_type": "code",
   "execution_count": 262,
   "metadata": {},
   "outputs": [],
   "source": [
    "# Establish Variables to track various financial statistics\n",
    "\n",
    "total_number_outputs=0\n",
    "change_month=[]\n",
    "net_change_lists=[]\n",
    "net_total_profits_and_losses=0\n",
    "greatest_increase_profits=[\"\",0]\n",
    "greatest_decrease_loss=[\"\",99999999]"
   ]
  },
  {
   "cell_type": "code",
   "execution_count": 263,
   "metadata": {},
   "outputs": [],
   "source": [
    "#Read the csv and convert it into a list of dictionaries\n",
    "\n",
    "with open(data_spreadsheet) as financial_data:\n",
    "    reader = csv.reader(financial_data)\n",
    "#Read the Header row    \n",
    "    header=next(reader)\n",
    "    \n",
    "#Pull th first row of data as to avoid appending to net_change_list    \n",
    "    first_row=next(reader)\n",
    "    prev_net = int(first_row[1])\n",
    "    net_change_lists=[]\n",
    "    net_total_profits_and_losses += int(first_row[1])\n",
    "    \n",
    "    for row in reader:\n",
    "\n",
    "#Track the total outputs and net\n",
    "        total_number_outputs=total_number_outputs + 1\n",
    "        net_total_profits_and_losses=net_total_profits_and_losses+ int(row[1])\n",
    "\n",
    "#Track the net change\n",
    "        net_change = int(row[1]) - prev_net\n",
    "        net_change_lists.append(net_change)\n",
    "        change_month = change_month + [row[0]]\n",
    "        prev_net = int(row[1])\n",
    "\n",
    "#Calculate the greatest increase in profit       \n",
    "        if net_change > greatest_increase_profits[1]:\n",
    "            greatest_increase_profits[0] = row[0]\n",
    "            greatest_increase_profits[1] = net_change\n",
    "\n",
    "#Calculate the greatest decrease       \n",
    "        if net_change < greatest_decrease_loss[1]:\n",
    "            greatest_decrease_loss[0] = row[0]\n",
    "            greatest_decrease_loss[1] = net_change"
   ]
  },
  {
   "cell_type": "code",
   "execution_count": 264,
   "metadata": {},
   "outputs": [],
   "source": [
    "#Calculate the average net change\n",
    "\n",
    "net_monthly_avg = round(sum(net_change_lists) / len(net_change_lists),2)"
   ]
  },
  {
   "cell_type": "code",
   "execution_count": 265,
   "metadata": {},
   "outputs": [
    {
     "name": "stdout",
     "output_type": "stream",
     "text": [
      "-2315.12\n"
     ]
    }
   ],
   "source": []
  },
  {
   "cell_type": "code",
   "execution_count": 266,
   "metadata": {},
   "outputs": [
    {
     "data": {
      "text/plain": [
       "85"
      ]
     },
     "execution_count": 266,
     "metadata": {},
     "output_type": "execute_result"
    }
   ],
   "source": []
  },
  {
   "cell_type": "code",
   "execution_count": 267,
   "metadata": {},
   "outputs": [],
   "source": [
    "#Export all the results to a text file\n",
    "\n",
    "with open(analysis_outputs, \"w\") as txt_file:\n",
    "    txt_file.write(f\"Financial Analysis\\n\")\n",
    "    txt_file.write(f\"----------------------------\\n\")\n",
    "    txt_file.write(f\"total_number_outputs: {total_number_outputs+1}\\n\")\n",
    "    txt_file.write(f\"Total: ${net_total_profits_and_losses}\\n\")\n",
    "    txt_file.write(f\"Average  Change: ${net_monthly_avg}\\n\")\n",
    "    txt_file.write(f\"Greatest Increase in Profits: {greatest_increase_profits[0]} (${greatest_increase_profits[1]})\\n\")\n",
    "    txt_file.write(f\"Greatest Decrease in Profits: {greatest_decrease_loss[0]} (${greatest_decrease_loss[1]})\\n\")"
   ]
  },
  {
   "cell_type": "code",
   "execution_count": null,
   "metadata": {},
   "outputs": [],
   "source": []
  },
  {
   "cell_type": "code",
   "execution_count": null,
   "metadata": {},
   "outputs": [],
   "source": []
  }
 ],
 "metadata": {
  "kernelspec": {
   "display_name": "Python 3",
   "language": "python",
   "name": "python3"
  },
  "language_info": {
   "codemirror_mode": {
    "name": "ipython",
    "version": 3
   },
   "file_extension": ".py",
   "mimetype": "text/x-python",
   "name": "python",
   "nbconvert_exporter": "python",
   "pygments_lexer": "ipython3",
   "version": "3.8.3"
  }
 },
 "nbformat": 4,
 "nbformat_minor": 4
}
